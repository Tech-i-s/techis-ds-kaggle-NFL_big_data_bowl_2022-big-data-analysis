{
 "cells": [
  {
   "cell_type": "markdown",
   "id": "518909bd",
   "metadata": {},
   "source": [
    "Before National Football League (NFL) coaches celebrate a big W, they strategize ways to improve field position and score points. Both of these objectives receive significant contributions from special teams plays, which consist of punts, kickoffs, field goals and extra points. These play types take on important roles in a game’s final score—so much so that coaches say they're a third of the game. Yet special teams remain an understudied part of American football, with an opportunity for data science to offer better ways to understand its impact.\n",
    "\n",
    "The 2022 Big Data Bowl creates the opportunity for you (and the world!) to learn more about special teams play than ever before. We've provided the [NFL's Next Gen Stats](https://nextgenstats.nfl.com/) (NGS) tracking data from all 2018-2020 special teams plays. This data provides location information for each special teams player, wherever they are on the field, and includes their speed, acceleration, and direction. Additionally, and for the first time in Big Data Bowl history, participants can utilize scouting data from [PFF](https://www.pff.com/), which supplements the tracking data with football specific metrics that coaches find critical to team success.\n",
    "\n",
    "The NFL is America's most popular sports league. Founded in 1920, the organization behind American football has developed the model for the successful modern sports league. They're committed to advancing every aspect of the game, including the lesser researched special teams. In this competition, you’ll quantify what happens on special teams plays. You might create a new special teams metric, quantify team or individual strategies, rank players, or even something we haven’t considered.\n",
    "\n",
    "With your creativity and analytical skills, the development of these new methods could lead to additional stats for special teams plays. If successful, your effort [may even be adopted by the NFL](https://www.nfl.com/news/next-gen-stats-intro-to-expected-rushing-yards) for on air distribution, and you can watch future games knowing you had a hand in improving America's most popular sports league."
   ]
  },
  {
   "cell_type": "code",
   "execution_count": 4,
   "id": "40e66e3f",
   "metadata": {},
   "outputs": [],
   "source": [
    "import pandas as pd\n"
   ]
  },
  {
   "cell_type": "code",
   "execution_count": 5,
   "id": "b10d12f0",
   "metadata": {},
   "outputs": [],
   "source": [
    "PFFScoutingData = pd.read_csv('PFFScoutingData.csv')\n",
    "games = pd.read_csv('games.csv')\n",
    "players = pd.read_csv('players.csv')\n",
    "plays = pd.read_csv('plays.csv')\n",
    "tracking2018 = pd.read_csv('tracking2018.csv')\n",
    "tracking2019 = pd.read_csv('tracking2019.csv')\n",
    "tracking2020 = pd.read_csv('tracking2020.csv')"
   ]
  },
  {
   "cell_type": "code",
   "execution_count": null,
   "id": "7d798ca2",
   "metadata": {},
   "outputs": [],
   "source": [
    "PFFScoutingData.head()"
   ]
  },
  {
   "cell_type": "code",
   "execution_count": null,
   "id": "95e0562c",
   "metadata": {},
   "outputs": [],
   "source": [
    "games.head()"
   ]
  },
  {
   "cell_type": "code",
   "execution_count": null,
   "id": "ddd28978",
   "metadata": {},
   "outputs": [],
   "source": [
    "players.head()"
   ]
  },
  {
   "cell_type": "code",
   "execution_count": null,
   "id": "4cfc1efa",
   "metadata": {},
   "outputs": [],
   "source": [
    "plays.head()"
   ]
  },
  {
   "cell_type": "code",
   "execution_count": null,
   "id": "b968d014",
   "metadata": {},
   "outputs": [],
   "source": [
    "tracking2018.head()"
   ]
  },
  {
   "cell_type": "code",
   "execution_count": null,
   "id": "6d90e8c4",
   "metadata": {},
   "outputs": [],
   "source": [
    "tracking2019.head()"
   ]
  },
  {
   "cell_type": "code",
   "execution_count": null,
   "id": "abf55be5",
   "metadata": {},
   "outputs": [],
   "source": [
    "tracking.head()"
   ]
  }
 ],
 "metadata": {
  "kernelspec": {
   "display_name": "Python 3 (ipykernel)",
   "language": "python",
   "name": "python3"
  },
  "language_info": {
   "codemirror_mode": {
    "name": "ipython",
    "version": 3
   },
   "file_extension": ".py",
   "mimetype": "text/x-python",
   "name": "python",
   "nbconvert_exporter": "python",
   "pygments_lexer": "ipython3",
   "version": "3.9.7"
  }
 },
 "nbformat": 4,
 "nbformat_minor": 5
}
